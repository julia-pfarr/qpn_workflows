{
 "cells": [
  {
   "cell_type": "markdown",
   "metadata": {},
   "source": [
    "### Notebook to check the dates of the MRI scans\n",
    "\n",
    "#### Date Sources\n",
    "1. Suivi sheet \n",
    "2. Testing sheet\n",
    "3. DICOM file \n",
    "4. DICOM header"
   ]
  },
  {
   "cell_type": "code",
   "execution_count": null,
   "metadata": {},
   "outputs": [],
   "source": [
    "import pandas as pd\n",
    "import numpy as np\n",
    "import seaborn as sns"
   ]
  },
  {
   "cell_type": "code",
   "execution_count": null,
   "metadata": {},
   "outputs": [],
   "source": [
    "DATASET_ROOT = \"/home/nikhil/projects/Parkinsons/qpn/\"\n",
    "\n",
    "# Current nipoppy release\n",
    "current_release = \"Aug_2024\"\n",
    "\n",
    "data_release_dir = f\"{DATASET_ROOT}/releases/{current_release}/\"\n",
    "tabular_data_release_dir = f\"{data_release_dir}/tabular/\"\n",
    "\n",
    "current_manifest_csv = f\"{data_release_dir}/manifest.csv\"\n",
    "MRI_acq_dates_Aug_csv = f\"{tabular_data_release_dir}/recruitment/MRI_acqdata.csv\"\n",
    "MRI_acq_dates_Sept_csv = f\"{tabular_data_release_dir}/recruitment/MRI_acqdata_Sept2024.csv\"\n",
    "\n"
   ]
  },
  {
   "cell_type": "markdown",
   "metadata": {},
   "source": [
    "### Read current manifest"
   ]
  },
  {
   "cell_type": "code",
   "execution_count": null,
   "metadata": {},
   "outputs": [],
   "source": [
    "manifest_df= pd.read_csv(current_manifest_csv)\n",
    "\n",
    "manifest_participants = manifest_df[\"participant_id\"].unique()\n",
    "n_manifest_participants = len(manifest_participants)\n",
    "print(f\"Number of participants in manifest: {n_manifest_participants}\")\n",
    "\n",
    "sessions = manifest_df[\"session\"].unique()\n",
    "print(f\"sessions: {sessions}\")\n",
    "\n",
    "per_session_counts = manifest_df.value_counts(\"session\")\n",
    "print(f\"per_session_counts: {per_session_counts}\")\n",
    "\n",
    "manifest_df.head()"
   ]
  },
  {
   "cell_type": "markdown",
   "metadata": {},
   "source": [
    "### MRI dates"
   ]
  },
  {
   "cell_type": "code",
   "execution_count": null,
   "metadata": {},
   "outputs": [],
   "source": [
    "mri_acq_dates_aug_df = pd.read_csv(MRI_acq_dates_Aug_csv)\n",
    "mri_acq_dates_sept_df = pd.read_csv(MRI_acq_dates_Sept_csv, index_col=0)\n",
    "\n",
    "mri_acq_dates_aug_df.head()"
   ]
  },
  {
   "cell_type": "code",
   "execution_count": null,
   "metadata": {},
   "outputs": [],
   "source": [
    "mri_acq_dates_sept_df = mri_acq_dates_sept_df.rename(columns={\"scanner_acq_date\": \"scanner_acq_date_sept\",\n",
    "                                                              \"participant_dicom_dir\": \"participant_dicom_dir_sept\"})\n",
    "mri_acq_dates_sept_df.head()"
   ]
  },
  {
   "cell_type": "code",
   "execution_count": null,
   "metadata": {},
   "outputs": [],
   "source": [
    "mri_acq_dates_sept_df[mri_acq_dates_sept_df[\"participant_id\"] == \"MNI0369\"]"
   ]
  },
  {
   "cell_type": "markdown",
   "metadata": {},
   "source": [
    "### Merge and compare dicoms and dates"
   ]
  },
  {
   "cell_type": "code",
   "execution_count": null,
   "metadata": {},
   "outputs": [],
   "source": [
    "mri_acq_dates_aug_df[\"scanner_acq_date\"] = pd.to_datetime(mri_acq_dates_aug_df[\"scanner_acq_date\"])\n",
    "mri_acq_dates_sept_df[\"scanner_acq_date_sept\"] = pd.to_datetime(mri_acq_dates_sept_df[\"scanner_acq_date_sept\"])\n",
    "\n",
    "# merge the two dataframes\n",
    "mri_acq_dates_aug_df = mri_acq_dates_aug_df[[\"participant_id\", \"session\", \"scanner_acq_date\", \"participant_dicom_dir\"]]\n",
    "mri_acq_dates_df = pd.merge(mri_acq_dates_aug_df, mri_acq_dates_sept_df, on=[\"participant_id\",\"session\"], how=\"left\")\n",
    "\n",
    "\n",
    "mri_acq_dates_df[\"dicom_dir_check\"] = mri_acq_dates_df[\"participant_dicom_dir\"] == mri_acq_dates_df[\"participant_dicom_dir_sept\"]\n",
    "mri_acq_dates_df[\"acq_date_check\"] = mri_acq_dates_df[\"scanner_acq_date\"] == mri_acq_dates_df[\"scanner_acq_date_sept\"]\n",
    "\n",
    "# Get date differences\n",
    "mri_acq_dates_df[\"date_diff\"] = mri_acq_dates_df[\"scanner_acq_date\"] - mri_acq_dates_df[\"scanner_acq_date_sept\"]\n",
    "\n",
    "mri_acq_dates_df.head()"
   ]
  },
  {
   "cell_type": "markdown",
   "metadata": {},
   "source": [
    "### Identify participants with different dicom directories or acquisition dates"
   ]
  },
  {
   "cell_type": "code",
   "execution_count": null,
   "metadata": {},
   "outputs": [],
   "source": [
    "mismatch_df = mri_acq_dates_df[~mri_acq_dates_df[\"dicom_dir_check\"] | ~mri_acq_dates_df[\"acq_date_check\"]]\n",
    "\n",
    "mismatch_df"
   ]
  },
  {
   "cell_type": "code",
   "execution_count": null,
   "metadata": {},
   "outputs": [],
   "source": []
  }
 ],
 "metadata": {
  "kernelspec": {
   "display_name": "nipoppy",
   "language": "python",
   "name": "python3"
  },
  "language_info": {
   "codemirror_mode": {
    "name": "ipython",
    "version": 3
   },
   "file_extension": ".py",
   "mimetype": "text/x-python",
   "name": "python",
   "nbconvert_exporter": "python",
   "pygments_lexer": "ipython3",
   "version": "3.10.12"
  }
 },
 "nbformat": 4,
 "nbformat_minor": 2
}
