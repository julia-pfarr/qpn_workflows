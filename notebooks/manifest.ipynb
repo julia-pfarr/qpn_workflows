{
 "cells": [
  {
   "attachments": {},
   "cell_type": "markdown",
   "metadata": {},
   "source": [
    "## Code to generate manifest.csv\n",
    "- Based on this [schema](https://nipoppy.readthedocs.io/en/latest/schemas/index.html#manifest-file)\n",
    "\n",
    "### QPN naming convention\n",
    "- `visit`: timepoint of **ANY** clinical (i.e. UPDRS, MoCA, Neuropsy) data collected \n",
    "    - e.g. V01, V02 etc. \n",
    "- `session`: timepoint of MRI collection\n",
    "    - e.g. ses-01, ses-02 etc.\n",
    "- `event`: timepoint relative to a consensus baseline (used for inter-modality i.e. MRI vs clinical data harmonization) \n",
    "    - e.g. baseline, m06, m12 etc. "
   ]
  },
  {
   "cell_type": "code",
   "execution_count": null,
   "metadata": {},
   "outputs": [],
   "source": [
    "import pandas as pd\n",
    "import numpy as np"
   ]
  },
  {
   "cell_type": "markdown",
   "metadata": {},
   "source": [
    "### Paths"
   ]
  },
  {
   "cell_type": "code",
   "execution_count": null,
   "metadata": {},
   "outputs": [],
   "source": [
    "releases_dir = \"/home/nikhil/projects/Parkinsons/qpn/releases/\"\n",
    "\n",
    "previous_release = \"June_2024\"\n",
    "current_release = \"Oct_2024\" # No new data yet (20 March 2024)\n",
    "\n",
    "# Previous mr_proc manifest\n",
    "previous_manifest_csv = f\"{releases_dir}{previous_release}/manifest.csv\"\n",
    "\n",
    "# Current mr_proc manifest\n",
    "current_manifest_csv = f\"{releases_dir}{current_release}/manifest.csv\"\n",
    "\n",
    "# Current recruit manifest\n",
    "current_recruit_manifest_xls = f\"{releases_dir}{current_release}/tabular/recruitment/Suivi_RPQ.xlsx\"\n",
    "\n",
    "# Current DICOM list \n",
    "current_dicom_list_csv = f\"{releases_dir}{current_release}/tabular/recruitment/DICOM_availability.csv\""
   ]
  },
  {
   "cell_type": "markdown",
   "metadata": {},
   "source": [
    "### Read recruitment manifest from previous release"
   ]
  },
  {
   "cell_type": "code",
   "execution_count": null,
   "metadata": {},
   "outputs": [],
   "source": [
    "previous_recruit_manifest_df = pd.read_csv(previous_manifest_csv)\n",
    "previous_recruit_manifest_df[\"participant_id\"] = previous_recruit_manifest_df[\"participant_id\"].str.strip()\n",
    "nipoppy_participants_previous = previous_recruit_manifest_df[\"participant_id\"].dropna().unique()\n",
    "n_nipoppy_participants_previous = len(nipoppy_participants_previous)\n",
    "\n",
    "print(f\"number of participants from previous nipoppy release: {n_nipoppy_participants_previous}\")\n",
    "previous_recruit_manifest_df.head()"
   ]
  },
  {
   "attachments": {},
   "cell_type": "markdown",
   "metadata": {},
   "source": [
    "### Read latest recruitment manifest"
   ]
  },
  {
   "cell_type": "code",
   "execution_count": null,
   "metadata": {},
   "outputs": [],
   "source": [
    "col_range = \"A:R\"\n",
    "\n",
    "col_rename_dict = {\n",
    "    \"subj_id\":\"participant_id\",\n",
    "    \"IRM01\\n(J-M-A)\":\"IRM01_date\", \"#IRM 1\\n PD\":\"IRM01_PD\", \"#IRM 1\\n CTRL\":\"IRM01_CTRL\", \n",
    "    \"# IRM 1\\n RBD\":\"IRM01_RBD\", \"# IRM 1\\nOTHER\":\"IRM01_OTHER\",\n",
    "    \"IRM 2 \\n(J-M-A)\":\"IRM02_date\", \"#IRM 2\\n PD\":\"IRM02_PD\", \"#IRM 2\\n CTRL\":\"IRM02_CTRL\", \n",
    "    \"# IRM 2\\n RBD\":\"IRM02_RBD\", \"# IRM 2 OTHER\":\"IRM02_OTHER\",\n",
    "    \"IRM 3\\n(J-M-A)\":\"IRM03_date\", \"#IRM 3\\n PD\":\"IRM03_PD\", \"#IRM 3\\n CTRL\":\"IRM03_CTRL\", \n",
    "    \"# IRM 3\\n RBD\":\"IRM03_RBD\", \"# IRM 3 OTHER\":\"IRM03_OTHER\"\n",
    "    }\n",
    "\n",
    "useful_cols = col_rename_dict.values()\n",
    "\n",
    "suivi_df = pd.read_excel(current_recruit_manifest_xls,sheet_name=\"En cours\", engine='openpyxl', usecols=col_range)\n",
    "suivi_df = suivi_df.rename(columns=col_rename_dict)[useful_cols].copy()\n",
    "\n",
    "# remove the row with tally\n",
    "suivi_df = suivi_df.drop([0])\n",
    "\n",
    "# remove rows without participant_id\n",
    "suivi_df = suivi_df.dropna(axis=0, subset=[\"participant_id\"])\n",
    "suivi_df = suivi_df[~suivi_df[\"participant_id\"].astype(str).isin([\"0\"])] \n",
    "suivi_df[\"participant_id\"] = suivi_df[\"participant_id\"].str.strip().astype(str)\n",
    "\n",
    "# remove subjects without imaging data\n",
    "suivi_df = suivi_df[(suivi_df[\"IRM01_PD\"] == 1) | (suivi_df[\"IRM01_CTRL\"] == 1) | \n",
    "                    (suivi_df[\"IRM01_RBD\"] == 1) | (suivi_df[\"IRM01_OTHER\"] == 1) |\n",
    "                    (suivi_df[\"IRM02_PD\"] == 1) | (suivi_df[\"IRM02_CTRL\"] == 1) | \n",
    "                    (suivi_df[\"IRM02_RBD\"] == 1) |(suivi_df[\"IRM02_OTHER\"] == 1) |\n",
    "                    (suivi_df[\"IRM03_PD\"] == 1) | (suivi_df[\"IRM03_CTRL\"] == 1) | \n",
    "                    (suivi_df[\"IRM03_RBD\"] == 1) |(suivi_df[\"IRM03_OTHER\"] == 1) ]\n",
    "\n",
    "\n",
    "# fix participant_id formatting issues\n",
    "# Some rows have Dx in participant_id and one participant with two IDs with \"=\"\n",
    "possible_delimiters = [\" \", \"(\", \"=\", \"\\n\"]\n",
    "for delim in possible_delimiters:        \n",
    "    suivi_df[\"participant_id\"] = suivi_df[\"participant_id\"].str.strip().str.split(pat=delim, n=1, expand=True)[0]\n",
    "\n",
    "# nipoppy_participants_current\n",
    "nipoppy_participants_current = suivi_df[\"participant_id\"].dropna().unique()\n",
    "\n",
    "suivi_df"
   ]
  },
  {
   "cell_type": "markdown",
   "metadata": {},
   "source": [
    "### Set date columns and check visit order"
   ]
  },
  {
   "cell_type": "code",
   "execution_count": null,
   "metadata": {},
   "outputs": [],
   "source": [
    "# set date columns to datetime\n",
    "# has mixed types, but auto formatting + coerce works fine here\n",
    "\n",
    "# explicitely set 0 to nan to avoid origin issues (date: 0 is 1970-01-01)\n",
    "suivi_df[\"IRM01_date\"] = suivi_df[\"IRM01_date\"].replace(0, np.nan)\n",
    "suivi_df[\"IRM02_date\"] = suivi_df[\"IRM02_date\"].replace(0, np.nan)\n",
    "suivi_df[\"IRM03_date\"] = suivi_df[\"IRM03_date\"].replace(0, np.nan)\n",
    "\n",
    "suivi_df[\"IRM01_date\"] = pd.to_datetime(suivi_df[\"IRM01_date\"], errors=\"coerce\")\n",
    "suivi_df[\"IRM02_date\"] = pd.to_datetime(suivi_df[\"IRM02_date\"], errors=\"coerce\")\n",
    "suivi_df[\"IRM03_date\"] = pd.to_datetime(suivi_df[\"IRM03_date\"], errors=\"coerce\")\n",
    "\n",
    "# Check visit orders\n",
    "suivi_df[\"visit_interval (V2-V1) in days\"] = suivi_df[\"IRM02_date\"] - suivi_df[\"IRM01_date\"]\n",
    "suivi_df[\"visit_interval (V2-V1) in days\"] = suivi_df[\"visit_interval (V2-V1) in days\"].dt.days\n",
    "suivi_df[\"visit_interval (V3-V2) in days\"] = suivi_df[\"IRM03_date\"] - suivi_df[\"IRM02_date\"]\n",
    "suivi_df[\"visit_interval (V3-V2) in days\"] = suivi_df[\"visit_interval (V3-V2) in days\"].dt.days\n",
    "\n",
    "\n",
    "visits_with_wrong_order_df = suivi_df[(suivi_df[\"visit_interval (V2-V1) in days\"] < 0) | \n",
    "                                     (suivi_df[\"visit_interval (V3-V2) in days\"] < 0)]\n",
    "\n",
    "\n",
    "print(f\"Participants with wrong visit order: ({len(visits_with_wrong_order_df)}) :{visits_with_wrong_order_df['participant_id'].values}\")\n"
   ]
  },
  {
   "cell_type": "markdown",
   "metadata": {},
   "source": [
    "## PD00849 has wrong visit order"
   ]
  },
  {
   "cell_type": "code",
   "execution_count": null,
   "metadata": {},
   "outputs": [],
   "source": [
    "suivi_df[suivi_df[\"participant_id\"] == \"PD00849\"]"
   ]
  },
  {
   "cell_type": "markdown",
   "metadata": {},
   "source": [
    "### Get new participants per session\n",
    "This is based on a valid date for MRI visit"
   ]
  },
  {
   "cell_type": "code",
   "execution_count": null,
   "metadata": {},
   "outputs": [],
   "source": [
    "total_partcipants_additions = list(set(nipoppy_participants_current) - set(nipoppy_participants_previous))\n",
    "print(f\"number of new participants: {len(total_partcipants_additions)}\")\n",
    "\n",
    "MRI_v1_participants = suivi_df[(suivi_df[\"IRM01_PD\"] == 1) | (suivi_df[\"IRM01_CTRL\"] == 1) | \n",
    "                               (suivi_df[\"IRM01_RBD\"] == 1) | (suivi_df[\"IRM01_OTHER\"] == 1)][\"participant_id\"].dropna().unique()\n",
    "MRI_v2_participants = suivi_df[(suivi_df[\"IRM02_PD\"] == 1) | (suivi_df[\"IRM02_CTRL\"] == 1) | \n",
    "                               (suivi_df[\"IRM02_RBD\"] == 1) | (suivi_df[\"IRM02_OTHER\"] == 1)][\"participant_id\"].dropna().unique()\n",
    "MRI_v3_participants = suivi_df[(suivi_df[\"IRM03_PD\"] == 1) | (suivi_df[\"IRM03_CTRL\"] == 1) |\n",
    "                                (suivi_df[\"IRM03_RBD\"] == 1) | (suivi_df[\"IRM03_OTHER\"] == 1)][\"participant_id\"].dropna().unique()\n",
    "\n",
    "\n",
    "visit_participant_dict = {\"MRI_v1\": MRI_v1_participants, \"MRI_v2\": MRI_v2_participants, \"MRI_v3\": MRI_v3_participants}\n",
    "\n",
    "print(f\"MRI_v1_participants: {len(MRI_v1_participants)}, MRI_v2_participants: {len(MRI_v2_participants)}, MRI_v3_participants: {len(MRI_v3_participants)}\")\n"
   ]
  },
  {
   "cell_type": "markdown",
   "metadata": {},
   "source": [
    "### Check DICOM availability"
   ]
  },
  {
   "cell_type": "code",
   "execution_count": null,
   "metadata": {},
   "outputs": [],
   "source": [
    "current_dicom_df = pd.read_csv(current_dicom_list_csv)\n",
    "current_dicom_df[\"participant_id\"] = current_dicom_df[\"participant_id\"].str.strip().astype(str)\n",
    "n_dicom_participants = len(current_dicom_df[\"participant_id\"].dropna().unique())\n",
    "print(f\"number of participants with dicom data: {n_dicom_participants}\")\n",
    "n_dicom_sessions = len(current_dicom_df[\"session\"].dropna().unique())\n",
    "print(f\"number of sessions with dicom data: {n_dicom_sessions}\")\n",
    "\n",
    "dicom_ses_1_participants = current_dicom_df[current_dicom_df[\"session\"] == \"ses-01\"][\"participant_id\"].dropna().unique()\n",
    "dicom_ses_2_participants = current_dicom_df[current_dicom_df[\"session\"] == \"ses-02\"][\"participant_id\"].dropna().unique()\n",
    "dicom_ses_3_participants = current_dicom_df[current_dicom_df[\"session\"] == \"ses-03\"][\"participant_id\"].dropna().unique()\n",
    "\n",
    "print(f\"dicom_ses_1_participants: {len(dicom_ses_1_participants)}, dicom_ses_2_participants: {len(dicom_ses_2_participants)}, dicom_ses_3_participants: {len(dicom_ses_3_participants)}\")\n",
    "\n",
    "current_dicom_df.head()"
   ]
  },
  {
   "cell_type": "code",
   "execution_count": null,
   "metadata": {},
   "outputs": [],
   "source": [
    "current_dicom_df[current_dicom_df[\"participant_dicom_dir\"].isna()]"
   ]
  },
  {
   "cell_type": "code",
   "execution_count": null,
   "metadata": {},
   "outputs": [],
   "source": [
    "suivi_dicom_intersection = set(dicom_ses_1_participants) & set(MRI_v1_participants)\n",
    "suivi_minus_dicom = set(MRI_v1_participants) - set(dicom_ses_1_participants)  \n",
    "dicom_minus_suivi = set(dicom_ses_1_participants) - set(MRI_v1_participants)\n",
    "print(f\"suivi_dicom_intersection: {len(suivi_dicom_intersection)}, suivi_minus_dicom: {len(suivi_minus_dicom)}, dicom_minus_suivi: {len(dicom_minus_suivi)}\")\n",
    "\n",
    "print(f\"suivi_minus_dicom: {suivi_minus_dicom}\")\n",
    "print(f\"dicom_minus_suivi: {dicom_minus_suivi}\")"
   ]
  },
  {
   "attachments": {},
   "cell_type": "markdown",
   "metadata": {},
   "source": [
    "### Generate current_manifest_df\n",
    "\n",
    "- Populate manifest with available clinical visits / MRI sessions\n",
    "- Datatypes: Assuming QPN has all 4 BIDS datatypes: [\"anat\",\"dwi\",\"fmap\",\"func\"]\n",
    "\n",
    "- Sample `manifest.csv`\n",
    "\n",
    "| participant_id | participant_dicom_dir | visit | session | datatype                     | bids_id |\n",
    "|----------------|-----------------------|-------|---------|------------------------------|---------|\n",
    "| 001            | MyStudy_001_V2021      | V01   | ses-01  | [\"anat\",\"dwi\",\"fmap\",\"func\"] | sub-001 |\n",
    "| 001            | MyStudy_001_V2022      | V02   | ses-02  | [\"anat\"]                     | sub-001 |\n",
    "| 002            | MyStudy_002_V2021      | V01   | ses-01  | [\"anat\",\"dwi\"]               | sub-002 |\n",
    "| 002            | MyStudy_002_V2024      | V03   | ses-03  | [\"anat\",\"dwi\"]               | sub-002 |"
   ]
  },
  {
   "cell_type": "code",
   "execution_count": null,
   "metadata": {},
   "outputs": [],
   "source": [
    "visit_labels = visit_participant_dict.keys()\n",
    "visit_session_dict = {\"MRI_v1\": \"ses-01\", \"MRI_v2\": \"ses-02\", \"MRI_v3\": \"ses-03\"}\n",
    "\n",
    "manifest_cols = [\"visit\",\"session\",\"datatype\",\"dicom_availabilty\"]\n",
    "avail_datatypes = \"['anat','dwi','fmap','func']\"\n",
    "\n",
    "current_manifest_df = pd.DataFrame()\n",
    "\n",
    "for visit_label in visit_labels:\n",
    "    session = visit_session_dict[visit_label]\n",
    "\n",
    "    visit_participant_ids = visit_participant_dict[visit_label]\n",
    "    participants_with_dicoms = current_dicom_df[current_dicom_df[\"session\"] == session][\"participant_id\"].values\n",
    "\n",
    "    # add participants with dicoms to visit_participant_ids (sometimes Suivi is out of sync with dicom data)\n",
    "    visit_participant_ids = list(set(visit_participant_ids).union(set(participants_with_dicoms)))\n",
    "                                 \n",
    "    print(f\"visit_id: {visit_label}, n_participants: {len(visit_participant_ids)}\")\n",
    "\n",
    "    _df = pd.DataFrame(index=visit_participant_ids, columns=manifest_cols)\n",
    "\n",
    "    _df.loc[visit_participant_ids,\"visit\"] = visit_label\n",
    "    _df.loc[visit_participant_ids,\"session\"] = session\n",
    "    _df.loc[visit_participant_ids,\"datatype\"] = avail_datatypes\n",
    "\n",
    "    # check dicom availability\n",
    "    _df.loc[participants_with_dicoms,\"dicom_availabilty\"] = \"yes\"\n",
    "    _df[\"dicom_availabilty\"] = _df[\"dicom_availabilty\"].fillna(\"no\")\n",
    "    \n",
    "    current_manifest_df = pd.concat([current_manifest_df, _df], axis=0)\n",
    "\n",
    "current_manifest_df"
   ]
  },
  {
   "cell_type": "markdown",
   "metadata": {},
   "source": [
    "### Save update CSV"
   ]
  },
  {
   "cell_type": "code",
   "execution_count": null,
   "metadata": {},
   "outputs": [],
   "source": [
    "save_current_manifest = False\n",
    "if save_current_manifest:\n",
    "    print(f\"Saving new nipoppy manifest here: {current_manifest_csv}\")\n",
    "    current_manifest_df = current_manifest_df.reset_index().rename(columns={\"index\":\"participant_id\"})\n",
    "    current_manifest_df.to_csv(current_manifest_csv,index=None)"
   ]
  },
  {
   "cell_type": "markdown",
   "metadata": {},
   "source": [
    "## Generate inventory of all BIDS data"
   ]
  },
  {
   "cell_type": "code",
   "execution_count": null,
   "metadata": {},
   "outputs": [],
   "source": [
    "from bids import BIDSLayout"
   ]
  },
  {
   "cell_type": "code",
   "execution_count": null,
   "metadata": {},
   "outputs": [],
   "source": [
    "qpn_bids_dir = \"/home/nikhil/projects/Parkinsons/qpn/bids\"\n",
    "layout = BIDSLayout(qpn_bids_dir)"
   ]
  },
  {
   "cell_type": "code",
   "execution_count": null,
   "metadata": {},
   "outputs": [],
   "source": [
    "layout_df = layout.to_df()\n",
    "layout_df[layout_df[\"extension\"] == \".nii.gz\"]"
   ]
  },
  {
   "cell_type": "markdown",
   "metadata": {},
   "source": [
    "### Sanity check for QPN BIDS data"
   ]
  },
  {
   "cell_type": "code",
   "execution_count": null,
   "metadata": {},
   "outputs": [],
   "source": [
    "tabular_data_release_dir = \"/home/nikhil/projects/Parkinsons/qpn/releases/Oct_2024/tabular/\"\n",
    "bids_layout_export_file = f\"{tabular_data_release_dir}/bids_layout_export.csv\"\n",
    "demographics_file = f\"{tabular_data_release_dir}/demographics.csv\"\n",
    "\n",
    "bids_layout_df = pd.read_csv(bids_layout_export_file)\n",
    "\n",
    "n_participants = len(bids_layout_df[\"subject\"].dropna().unique())\n",
    "print(f\"number of participants in BIDS layout: {n_participants}\")\n",
    "\n",
    "n_sessions = len(bids_layout_df[\"session\"].dropna().unique())\n",
    "print(f\"number of sessions in BIDS layout: {n_sessions}\")\n",
    "\n",
    "## Filter QPN subjects\n",
    "demo_df = pd.read_csv(demographics_file)\n",
    "qpn_participants = demo_df[demo_df[\"recruitment_cohort\"] == \"QPN\"][\"participant_id\"].unique()\n",
    "\n",
    "n_qpn_participants = len(qpn_participants)\n",
    "print(f\"number of QPN participants: {n_qpn_participants}\")\n",
    "\n",
    "bids_layout_df = bids_layout_df[bids_layout_df[\"subject\"].isin(qpn_participants)]\n",
    "\n",
    "n_participants = len(bids_layout_df[\"subject\"].dropna().unique())\n",
    "print(f\"number of participants in BIDS layout: {n_participants}\")\n",
    "\n",
    "n_sessions = len(bids_layout_df[\"session\"].dropna().unique())\n",
    "print(f\"number of sessions in BIDS layout: {n_sessions}\")\n",
    "\n",
    "# save filtered bids layout\n",
    "bids_layout_df.to_csv(f\"{tabular_data_release_dir}/bids_layout_export_qpn.csv\", index=None)\n",
    "\n",
    "bids_layout_df.head()"
   ]
  },
  {
   "cell_type": "code",
   "execution_count": null,
   "metadata": {},
   "outputs": [],
   "source": []
  }
 ],
 "metadata": {
  "interpreter": {
   "hash": "9e85faa3937191409befa9075f65ba0f49919df55e77b3fcca0bc43183dd2917"
  },
  "kernelspec": {
   "display_name": "Python 3.8.5 64-bit ('parkinsons': conda)",
   "language": "python",
   "name": "python3"
  },
  "language_info": {
   "codemirror_mode": {
    "name": "ipython",
    "version": 3
   },
   "file_extension": ".py",
   "mimetype": "text/x-python",
   "name": "python",
   "nbconvert_exporter": "python",
   "pygments_lexer": "ipython3",
   "version": "3.10.12"
  }
 },
 "nbformat": 4,
 "nbformat_minor": 2
}
