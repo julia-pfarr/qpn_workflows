{
 "cells": [
  {
   "cell_type": "code",
   "execution_count": null,
   "metadata": {},
   "outputs": [],
   "source": [
    "import pandas as pd"
   ]
  },
  {
   "cell_type": "code",
   "execution_count": null,
   "metadata": {},
   "outputs": [],
   "source": [
    "# read in participants.tsv taken from /data/origami/nikhil/datasets/sandbox/qpn-new\n",
    "participants_tsv_source = pd.read_csv(\"../../participants.tsv\", sep=\"\\t\")\n",
    "participants_tsv_source"
   ]
  },
  {
   "cell_type": "code",
   "execution_count": null,
   "metadata": {},
   "outputs": [],
   "source": [
    "# read in demographics_release.csv, created with qpn-release_data-sort.ipynb\n",
    "demographics_release = pd.read_csv(\"../../tabular/demographics_release.csv\", sep=\",\")\n",
    "demographics_release['participant_id'] = 'sub-' + demographics_release['participant_id']\n",
    "demographics_release"
   ]
  },
  {
   "cell_type": "code",
   "execution_count": null,
   "metadata": {},
   "outputs": [],
   "source": [
    "# filter source participants.tsv by demographics_release.csv participants\n",
    "participants_tsv_filtered = participants_tsv_source[participants_tsv_source['participant_id'].isin(demographics_release['participant_id'])]\n",
    "participants_tsv_filtered"
   ]
  },
  {
   "cell_type": "code",
   "execution_count": null,
   "metadata": {},
   "outputs": [],
   "source": [
    "# Find missing participant IDs\n",
    "missing_ids = demographics_release[~demographics_release['participant_id'].isin(participants_tsv_filtered['participant_id'])]\n",
    "\n",
    "print(\"Missing participant IDs:\")\n",
    "print(missing_ids)"
   ]
  },
  {
   "cell_type": "code",
   "execution_count": null,
   "metadata": {},
   "outputs": [],
   "source": [
    "# add subject * because missing in participants_tsv_source. \n",
    "# Information taken from /data/origami/nikhil/datasets/sandbox/qpn-new/tabular/assessments/visits.csv and /mri_info/mri_sessions.csv\n",
    "# NOTE: ID and personal information was removed from this notebook, full information at /host/verges/tank/pd/tmp/qpn-releases/qpn-release_dec-2024/scratch/code\n",
    "\n",
    "new_row = pd.DataFrame({\"participant_id\": [\"\"], \"age\": [], \"sex\": [\"\"], \"group\":[\"\"]})\n",
    "participants_tsv_filtered = pd.concat([participants_tsv_filtered, new_row], ignore_index=True)\n",
    "participants_tsv_filtered"
   ]
  },
  {
   "cell_type": "code",
   "execution_count": null,
   "metadata": {},
   "outputs": [],
   "source": [
    "# sort new table after demographics_release sorting\n",
    "\n",
    "participants_tsv_filtered = participants_tsv_filtered.set_index('participant_id').reindex(demographics_release['participant_id']).reset_index()\n",
    "participants_tsv_filtered "
   ]
  },
  {
   "cell_type": "code",
   "execution_count": null,
   "metadata": {},
   "outputs": [],
   "source": [
    "# add folder_index column \n",
    "\n",
    "participants_tsv_filtered[\"folder_index\"] = demographics_release[\"folder_index\"]\n",
    "participants_tsv_filtered"
   ]
  },
  {
   "cell_type": "code",
   "execution_count": null,
   "metadata": {},
   "outputs": [],
   "source": [
    "# adjust group values\n",
    "\n",
    "participants_tsv_filtered['group'] = participants_tsv_filtered['participant_id'].map(demographics_release.set_index('participant_id')['enrollment_group'])\n",
    "participants_tsv_filtered"
   ]
  },
  {
   "cell_type": "code",
   "execution_count": null,
   "metadata": {},
   "outputs": [],
   "source": [
    "# rename \"group\" values\n",
    "\n",
    "participants_tsv_filtered['group'] = participants_tsv_filtered['group'].replace(\"PD (Parkinson's Disease)/(Maladie de Parkinson)\", \"PD\")\n",
    "participants_tsv_filtered['group'] = participants_tsv_filtered['group'].replace(\"AP (Atypical Parkinsonism)/(Parkinsonisme Atypique)\", \"AP\")\n",
    "participants_tsv_filtered['group'] = participants_tsv_filtered['group'].replace(\"Healthy control/Contrôle\", \"control\")\n",
    "# Format folder_index to have leading zeros\n",
    "participants_tsv_filtered['folder_index'] = participants_tsv_filtered['folder_index'].apply(lambda x: f\"{x:03d}\")\n",
    "participants_tsv_filtered"
   ]
  },
  {
   "cell_type": "code",
   "execution_count": null,
   "metadata": {},
   "outputs": [],
   "source": [
    "# export\n",
    "participants_tsv_filtered.to_csv('participants.tsv', sep='\\t', index=False)"
   ]
  }
 ],
 "metadata": {
  "kernelspec": {
   "display_name": "base",
   "language": "python",
   "name": "python3"
  },
  "language_info": {
   "codemirror_mode": {
    "name": "ipython",
    "version": 3
   },
   "file_extension": ".py",
   "mimetype": "text/x-python",
   "name": "python",
   "nbconvert_exporter": "python",
   "pygments_lexer": "ipython3",
   "version": "3.12.2"
  }
 },
 "nbformat": 4,
 "nbformat_minor": 2
}
