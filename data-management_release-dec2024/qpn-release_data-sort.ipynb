{
 "cells": [
  {
   "cell_type": "code",
   "execution_count": null,
   "metadata": {},
   "outputs": [],
   "source": [
    "import pandas as pd"
   ]
  },
  {
   "cell_type": "code",
   "execution_count": null,
   "metadata": {},
   "outputs": [],
   "source": [
    "# df demographics.csv; taken from /data/origami/nikhil/datasets/sandbox/qpn-new\n",
    "demographics = pd.read_csv(\"demographics.csv\", sep=\",\")\n",
    "demographics"
   ]
  },
  {
   "cell_type": "code",
   "execution_count": null,
   "metadata": {},
   "outputs": [],
   "source": [
    "# df diagnosis.csv; taken from taken from /data/origami/nikhil/datasets/sandbox/qpn-new\n",
    "diagnosis = pd.read_csv(\"diagnosis.csv\", sep=\",\")\n",
    "diagnosis"
   ]
  },
  {
   "cell_type": "code",
   "execution_count": null,
   "metadata": {},
   "outputs": [],
   "source": [
    "# Find number of common participants\n",
    "demographics['participant_id'].isin(diagnosis['participant_id']).value_counts()"
   ]
  },
  {
   "cell_type": "code",
   "execution_count": null,
   "metadata": {},
   "outputs": [],
   "source": [
    "# Find missing participant IDs\n",
    "missing_ids = demographics[~demographics['participant_id'].isin(diagnosis['participant_id'])]\n",
    "\n",
    "print(\"Missing participant IDs:\")\n",
    "print(missing_ids)"
   ]
  },
  {
   "cell_type": "code",
   "execution_count": null,
   "metadata": {},
   "outputs": [],
   "source": [
    "(diagnosis['diagnosis_group_for_analysis'] == \"unknown\").value_counts()\n"
   ]
  },
  {
   "cell_type": "code",
   "execution_count": null,
   "metadata": {},
   "outputs": [],
   "source": [
    "(diagnosis['diagnosis_group_for_analysis'] == \"PD\").value_counts()"
   ]
  },
  {
   "cell_type": "code",
   "execution_count": null,
   "metadata": {},
   "outputs": [],
   "source": [
    "(diagnosis['diagnosis_group_for_analysis'] == \"control\").value_counts()"
   ]
  },
  {
   "cell_type": "code",
   "execution_count": null,
   "metadata": {},
   "outputs": [],
   "source": [
    "# Filter for participants with diagnosis_group \"PD\" or \"control\"\n",
    "filtered_participants = diagnosis[diagnosis['diagnosis_group_for_analysis'].isin(['PD', 'control'])]\n",
    "\n",
    "# Create a list of participant_id to be included in release\n",
    "participant_list = filtered_participants['participant_id'].tolist()\n",
    "\n",
    "with open(\"subject-list-for-release.txt\", 'w') as file:\n",
    "    file.write('\\n'.join(participant_list))\n",
    "    \n",
    "print(\"Participant IDs with diagnosis_group 'PD' or 'control':\")\n",
    "print(participant_list)"
   ]
  },
  {
   "cell_type": "code",
   "execution_count": null,
   "metadata": {},
   "outputs": [],
   "source": [
    "# Create a new demographics_release.csv based on the participant_list for release\n",
    "demographics_release = demographics[demographics['participant_id'].isin(participant_list)]\n",
    "\n",
    "participant_index = [f\"{i:03}\" for i in range(1, len(demographics_release) + 1)]\n",
    "demographics_release.insert(0, 'participant_index', participant_index)"
   ]
  },
  {
   "cell_type": "code",
   "execution_count": null,
   "metadata": {},
   "outputs": [],
   "source": [
    "# check if Roche were excluded\n",
    "(demographics_release['recruitment_cohort'] == \"Roche\").value_counts()"
   ]
  },
  {
   "cell_type": "code",
   "execution_count": null,
   "metadata": {},
   "outputs": [],
   "source": [
    "# save to csv\n",
    "demographics_release.to_csv(\"demographics_release.csv\", sep=\",\", index=False)"
   ]
  },
  {
   "cell_type": "code",
   "execution_count": null,
   "metadata": {},
   "outputs": [],
   "source": [
    "demographics_release"
   ]
  },
  {
   "cell_type": "code",
   "execution_count": null,
   "metadata": {},
   "outputs": [],
   "source": [
    "# make new csv with index-folder and participant_id including sub-*\n",
    "\n",
    "subject_list = demographics_release[[\"participant_index\", \"participant_id\"]]"
   ]
  },
  {
   "cell_type": "code",
   "execution_count": null,
   "metadata": {},
   "outputs": [],
   "source": [
    "subject_list"
   ]
  },
  {
   "cell_type": "code",
   "execution_count": null,
   "metadata": {},
   "outputs": [],
   "source": [
    "subject_list['participant_id'] = subject_list['participant_id'].apply(lambda x: f\"sub-{x}\")\n",
    "subject_list"
   ]
  },
  {
   "cell_type": "code",
   "execution_count": null,
   "metadata": {},
   "outputs": [],
   "source": [
    "subject_list.to_csv(\"../subject-list-for-release.csv\", sep=\",\", index=False)"
   ]
  }
 ],
 "metadata": {
  "kernelspec": {
   "display_name": "base",
   "language": "python",
   "name": "python3"
  },
  "language_info": {
   "codemirror_mode": {
    "name": "ipython",
    "version": 3
   },
   "file_extension": ".py",
   "mimetype": "text/x-python",
   "name": "python",
   "nbconvert_exporter": "python",
   "pygments_lexer": "ipython3",
   "version": "3.12.2"
  }
 },
 "nbformat": 4,
 "nbformat_minor": 2
}
